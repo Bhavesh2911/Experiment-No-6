{
  "cells": [
    {
      "cell_type": "markdown",
      "source": [
        "Write a program to demonstrate working with tuples in python."
      ],
      "metadata": {
        "id": "jWIfOQCs9F66"
      }
    },
    {
      "cell_type": "code",
      "source": [
        "#Tuples are written with round brackets.\n",
        "thistuple = (\"audi\", \"tata\", \"tesla\", \"kia\")\n",
        "print(thistuple)\n",
        "\n",
        "#Tuples allow duplicate values:\n",
        "thistuple = (\"audi\", \"tata\", \"tesla\", \"kia\",\"tesla\", \"kia\")\n",
        "print(thistuple)\n",
        "\n",
        "#Tuple Length\n",
        "thistuple = tuple((\"audi\", \"tata\", \"tesla\", \"kia\"))\n",
        "print(len(thistuple))\n",
        "\n",
        "#Create Tuple With One Item\n",
        "thistuple = (\"tesla\",)\n",
        "print(type(thistuple))\n",
        "\n",
        "#NOT a tuple\n",
        "thistuple = (\"tesla\")\n",
        "print(type(thistuple))\n",
        "\n",
        "#Tuple Items - Data Types\n",
        "\n",
        "tuple1 = (\"audi\", \"tata\", \"tesla\", \"kia\")\n",
        "tuple2 = (6, 5, 7, 2, 4)\n",
        "tuple3 = (True, False, False)\n",
        "\n",
        "\n",
        "print(tuple1)\n",
        "print(tuple2)\n",
        "print(tuple3)\n",
        "\n",
        "#A tuple with strings, integers and boolean values:\n",
        "tuple1 = (\"jpm\", 20, True, 40, \"male\")\n",
        "\n",
        "print(tuple1)\n",
        "\n",
        " #tuples are defined as objects with the data type 'tuple'\n",
        "mytuple = (\"audi\", \"tata\", \"tesla\",)\n",
        "\n",
        "print(type(mytuple))"
      ],
      "metadata": {
        "id": "nlpBpS5s9DwZ",
        "outputId": "1fca8dff-9df4-4772-ff3c-3dabf12d7aa5",
        "colab": {
          "base_uri": "https://localhost:8080/"
        }
      },
      "execution_count": 21,
      "outputs": [
        {
          "output_type": "stream",
          "name": "stdout",
          "text": [
            "('audi', 'tata', 'tesla', 'kia')\n",
            "('audi', 'tata', 'tesla', 'kia', 'tesla', 'kia')\n",
            "4\n",
            "<class 'tuple'>\n",
            "<class 'str'>\n",
            "('audi', 'tata', 'tesla', 'kia')\n",
            "(6, 5, 7, 2, 4)\n",
            "(True, False, False)\n",
            "('jpm', 20, True, 40, 'male')\n",
            "<class 'tuple'>\n"
          ]
        }
      ]
    }
  ],
  "metadata": {
    "colab": {
      "collapsed_sections": [],
      "name": "Welcome To Colaboratory",
      "toc_visible": true,
      "provenance": []
    },
    "kernelspec": {
      "display_name": "Python 3",
      "name": "python3"
    }
  },
  "nbformat": 4,
  "nbformat_minor": 0
}